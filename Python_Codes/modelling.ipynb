{
 "cells": [
  {
   "cell_type": "code",
   "execution_count": 327,
   "metadata": {},
   "outputs": [],
   "source": [
    "import numpy as np\n",
    "import pandas as pd\n",
    "\n",
    "import dask.dataframe as dd\n",
    "\n",
    "from sklearn.neural_network import MLPClassifier\n",
    "from sklearn.neural_network import MLPRegressor\n",
    "from sklearn.svm import SVC\n",
    "\n",
    "from sklearn.preprocessing import StandardScaler, MinMaxScaler\n",
    "from sklearn.preprocessing import LabelEncoder, OneHotEncoder\n",
    "from sklearn.feature_extraction import DictVectorizer\n",
    "\n",
    "from sklearn.pipeline import Pipeline\n",
    "from sklearn.metrics import accuracy_score\n",
    "from sklearn.model_selection import train_test_split\n",
    "from sklearn.model_selection import GridSearchCV, ParameterGrid\n",
    "\n",
    "from sklearn import preprocessing\n",
    "from sklearn.tree import DecisionTreeClassifier\n",
    "from sklearn.metrics import accuracy_score\n",
    "from sklearn.feature_extraction import DictVectorizer\n",
    "\n",
    "from sklearn.metrics import mean_squared_error\n",
    "from math import sqrt\n",
    "\n",
    "from sklearn.ensemble import AdaBoostRegressor\n",
    "from sklearn.ensemble import GradientBoostingRegressor\n",
    "# from sklearn.ensemble import score\n",
    "\n",
    "import random\n",
    "ohe = OneHotEncoder()\n",
    "\n",
    "from datetime import datetime\n",
    "\n",
    "import pickle\n",
    "\n",
    "from sklearn.decomposition import PCA"
   ]
  },
  {
   "cell_type": "code",
   "execution_count": 302,
   "metadata": {},
   "outputs": [],
   "source": [
    "# n = 4317237 #number of records in file\n",
    "# s = 10000 #desired sample size\n",
    "# skip = sorted(random.sample(range(1,n),n-s))\n",
    "\n",
    "# Read a random sample of s/n rows from csv"
   ]
  },
  {
   "cell_type": "code",
   "execution_count": 303,
   "metadata": {},
   "outputs": [],
   "source": [
    "# test = pd.read_csv(\"master.csv\", skiprows=skip)\n",
    "# read_test = pd.read_csv(\"tb_master.csv\")"
   ]
  },
  {
   "cell_type": "code",
   "execution_count": 304,
   "metadata": {},
   "outputs": [],
   "source": [
    "# read_test = pd.read_csv(\"tb_master.csv\")"
   ]
  },
  {
   "cell_type": "code",
   "execution_count": 305,
   "metadata": {},
   "outputs": [],
   "source": [
    "# !unzip masterNoDemo.csv.zip"
   ]
  },
  {
   "cell_type": "code",
   "execution_count": 307,
   "metadata": {},
   "outputs": [],
   "source": [
    "read_test = pd.read_csv(\"masterNoDemo.csv\")"
   ]
  },
  {
   "cell_type": "code",
   "execution_count": 148,
   "metadata": {},
   "outputs": [],
   "source": [
    "test['hour_slot'] = [1 if ((x>6) and (x<=10)) \n",
    "                     else 2 if ((x>10) and (x<=14)) \n",
    "                     else 3 if ((x>14) and (x<=18))\n",
    "                     else 4 if ((x>18) and (x<=22))\n",
    "                     else 5 if ((x>22) and (x<=2))\n",
    "                     else 6\n",
    "                     for x in read_test['hour']]\n",
    "\n",
    "test = test.drop(['hour'], axis=1)\n",
    "# read_test.rename(columns={'hour_slot':'hour'}, inplace=True)"
   ]
  },
  {
   "cell_type": "code",
   "execution_count": 328,
   "metadata": {},
   "outputs": [],
   "source": [
    "test = read_test"
   ]
  },
  {
   "cell_type": "code",
   "execution_count": 329,
   "metadata": {},
   "outputs": [],
   "source": [
    "# from datetime import datetime\n",
    "test['date1'] = [datetime.strptime(x, '%m/%d/%Y') for x in test['date']]\n",
    "test['date2'] = test['date1'].apply(lambda x: x.date())\n",
    "test['day'] = test['date2'].apply(lambda x: x.weekday())"
   ]
  },
  {
   "cell_type": "code",
   "execution_count": 330,
   "metadata": {},
   "outputs": [],
   "source": [
    "test['good_weather'] = np.where( ( (test['WindChillF'] < 85) & (test['WindChillF'] > 68 ) & (test['humidity'] < 80) & (test['precipMM'] < 2 ) ), 1, 0)\n",
    "# 0 is Monday, 1 Tuesday and so on\n",
    "# test = test[test['day'] < 4]\n",
    "# df['points'] = np.where( ( (df['gender'] == 'male') & (df['pet1'] == df['pet2'] ) ) | ( (df['gender'] == 'female') & (df['pet1'].isin(['cat','dog'] ) ) ), 5, 0)"
   ]
  },
  {
   "cell_type": "code",
   "execution_count": 331,
   "metadata": {},
   "outputs": [],
   "source": [
    "test['hour_slot'] = [1 if ((x>6) and (x<=10)) \n",
    "                     else 2 if ((x>10) and (x<=14)) \n",
    "                     else 3 if ((x>14) and (x<=18))\n",
    "                     else 4 if ((x>18) and (x<=22))\n",
    "                     else 5 if ((x>22) and (x<=2))\n",
    "                     else 6\n",
    "                     for x in test['hour']]\n",
    "\n",
    "# test = test.drop(['hour'], axis=1)"
   ]
  },
  {
   "cell_type": "code",
   "execution_count": 211,
   "metadata": {},
   "outputs": [],
   "source": [
    "# day_test = read_test[read_test.hour != 0]"
   ]
  },
  {
   "cell_type": "code",
   "execution_count": 212,
   "metadata": {},
   "outputs": [],
   "source": [
    "# len(day_test.index)"
   ]
  },
  {
   "cell_type": "code",
   "execution_count": 213,
   "metadata": {},
   "outputs": [],
   "source": [
    "# working_test.columns.values\n",
    "# test.columns.values\n",
    "# test.head()"
   ]
  },
  {
   "cell_type": "code",
   "execution_count": 332,
   "metadata": {},
   "outputs": [],
   "source": [
    "droplist = list([\n",
    "'Unnamed: 0',\n",
    "# 'origin',\n",
    "# 'geoid10_x',\n",
    "# 'dest',\n",
    "# 'date_x',\n",
    "'date2',\n",
    "'date',\n",
    "'county_y',\n",
    "# 'date_y',\n",
    "# 'timeReform', \n",
    "# 'dateReform', \n",
    "# 'time',\n",
    "# 'geoid10_y', \n",
    "'county_x',\n",
    "# 'Census_tracts_x', \n",
    "# 'Census_tracts_y',\n",
    "'dateReform', \n",
    "'timeReform',\n",
    "'temp', 'windspeedMiles', 'precipMM', 'humidity', 'visibility',\n",
    "'WindChillF', 'uvIndex', 'date1'])\n",
    "\n",
    "test = test.drop(droplist, axis=1)\n",
    "# Drop list of unnecessary columns"
   ]
  },
  {
   "cell_type": "code",
   "execution_count": 333,
   "metadata": {},
   "outputs": [
    {
     "data": {
      "text/plain": [
       "4317238"
      ]
     },
     "execution_count": 333,
     "metadata": {},
     "output_type": "execute_result"
    }
   ],
   "source": [
    "len(test.index)"
   ]
  },
  {
   "cell_type": "code",
   "execution_count": 158,
   "metadata": {},
   "outputs": [],
   "source": [
    "# test.columns.values"
   ]
  },
  {
   "cell_type": "code",
   "execution_count": 334,
   "metadata": {},
   "outputs": [],
   "source": [
    "def func_map(df, group_by):\n",
    "    \n",
    "    function_map = dict()\n",
    "    \n",
    "    sum_cols = [\"Trip ID\"]\n",
    "    all_cols = list(df.columns.values)\n",
    "    \n",
    "    grpby_op = {}\n",
    "    \n",
    "    for c in all_cols:\n",
    "        if c in group_by:\n",
    "            pass\n",
    "        elif c not in sum_cols:\n",
    "            grpby_op[c] = 'mean'\n",
    "        else:\n",
    "            grpby_op[c] = 'sum'\n",
    "            \n",
    "    return grpby_op\n",
    "\n",
    "grp_list = ['origin', 'dest', 'day', 'hour_slot'] #tb:removed 'hour', replace 'geoid10_x', 'geoid10_y',\n",
    "grpby_op = func_map(test, grp_list)\n",
    "\n",
    "test = test.groupby(grp_list, as_index=False).agg(grpby_op)\n",
    "# test = test.drop(['geoid10_x', 'geoid10_y'], axis=1) #tb:not sure why this is here. "
   ]
  },
  {
   "cell_type": "code",
   "execution_count": 335,
   "metadata": {},
   "outputs": [],
   "source": [
    "test = test.drop(['origin', 'dest'], axis=1)"
   ]
  },
  {
   "cell_type": "code",
   "execution_count": 218,
   "metadata": {},
   "outputs": [],
   "source": [
    "# test.head()\n",
    "# test = test.fillna(0)"
   ]
  },
  {
   "cell_type": "code",
   "execution_count": 336,
   "metadata": {},
   "outputs": [
    {
     "data": {
      "text/plain": [
       "1499524"
      ]
     },
     "execution_count": 336,
     "metadata": {},
     "output_type": "execute_result"
    }
   ],
   "source": [
    "len(test.index)"
   ]
  },
  {
   "cell_type": "code",
   "execution_count": 337,
   "metadata": {},
   "outputs": [],
   "source": [
    "test = test.fillna(0)"
   ]
  },
  {
   "cell_type": "code",
   "execution_count": 338,
   "metadata": {},
   "outputs": [],
   "source": [
    "# equiv = {0:0, 1:0, 2:0, 3:0, 4:0, 5:0, \n",
    "#          6:0, 7:1, 8:1, 9:1, 10:1, 11:2, \n",
    "#          12:2, 13:2, 14:2, 15:2, 16:2, 17:3, \n",
    "#          18:3, 19:3, 20:3, 21:3, 22:3, 23:0}\n",
    "\n",
    "# working_test['time'] = working_test['hour'].map(lambda x:equiv[x])"
   ]
  },
  {
   "cell_type": "code",
   "execution_count": 339,
   "metadata": {},
   "outputs": [],
   "source": [
    "def pipeline(df):\n",
    "    \n",
    "    df = pd.get_dummies(df,  columns=['day']) #Removed hour from this\n",
    "  \n",
    "    return df"
   ]
  },
  {
   "cell_type": "code",
   "execution_count": 340,
   "metadata": {},
   "outputs": [],
   "source": [
    "def column_ot(df, column_name):\n",
    "    \n",
    "    percent_25 = np.percentile(df[column_name], 25)\n",
    "    percent_75 = np.percentile(df[column_name], 75)\n",
    "    \n",
    "    iqr = percent_75 - percent_25\n",
    "    lower_limit  = round(percent_25 - 1.5 * iqr, 2)\n",
    "    upper_limit = round(percent_75 + 1.5 * iqr, 2)\n",
    "    \n",
    "    new_column = np.where(df[column_name] < lower_limit, lower_limit,\n",
    "                           np.where(df[column_name] > upper_limit, upper_limit, df[column_name]))\n",
    "     \n",
    "    \n",
    "    return new_column\n",
    "\n",
    "def outlier_treatment(df, columns_needing_ot):\n",
    "    for col in columns_needing_ot:\n",
    "        df[col] = column_ot(df, col)\n",
    "\n",
    "# returns df with updated columns"
   ]
  },
  {
   "cell_type": "code",
   "execution_count": 341,
   "metadata": {},
   "outputs": [],
   "source": [
    "columns_needing_ot = ['Area_x', 'accounting_x', 'airport_x',\n",
    "       'amusement_park_x', 'aquarium_x', 'art_gallery_x', 'atm_x',\n",
    "       'bakery_x', 'bank_x', 'bar_x', 'beauty_salon_x', 'bicycle_store_x',\n",
    "       'book_store_x', 'bowling_alley_x', 'bus_station_x', 'cafe_x',\n",
    "       'car_dealer_x', 'car_rental_x', 'car_repair_x', 'car_wash_x',\n",
    "       'casino_x', 'cemetery_x', 'church_x', 'city_hall_x',\n",
    "       'clothing_store_x', 'convenience_store_x', 'dentist_x',\n",
    "       'department_store_x', 'doctor_x', 'drugstore_x', 'electrician_x',\n",
    "       'electronics_store_x', 'embassy_x', 'finance_x', 'fire_station_x',\n",
    "       'florist_x', 'food_x', 'funeral_home_x', 'furniture_store_x',\n",
    "       'gas_station_x', 'general_contractor_x',\n",
    "       'grocery_or_supermarket_x', 'gym_x', 'hair_care_x',\n",
    "       'hardware_store_x', 'health_x', 'hindu_temple_x',\n",
    "       'home_goods_store_x', 'hospital_x', 'insurance_agency_x',\n",
    "       'jewelry_store_x', 'laundry_x', 'lawyer_x', 'library_x',\n",
    "       'liquor_store_x', 'local_government_office_x', 'locality_x',\n",
    "       'locksmith_x', 'lodging_x', 'meal_delivery_x', 'meal_takeaway_x',\n",
    "       'mosque_x', 'movie_rental_x', 'movie_theater_x',\n",
    "       'moving_company_x', 'museum_x', 'natural_feature_x',\n",
    "       'neighborhood_x', 'night_club_x', 'painter_x', 'park_x',\n",
    "       'parking_x', 'pet_store_x', 'pharmacy_x', 'physiotherapist_x',\n",
    "       'place_of_worship_x', 'plumber_x', 'police_x', 'political_x',\n",
    "       'post_office_x', 'premise_x', 'primary_school_x',\n",
    "       'real_estate_agency_x', 'restaurant_x', 'roofing_contractor_x',\n",
    "       'rv_park_x', 'school_x', 'secondary_school_x', 'shoe_store_x',\n",
    "       'shopping_mall_x', 'spa_x', 'stadium_x', 'storage_x', 'store_x',\n",
    "       'subway_station_x', 'supermarket_x', 'synagogue_x', 'taxi_stand_x',\n",
    "       'tourist_attraction_x', 'train_station_x', 'transit_station_x',\n",
    "       'travel_agency_x', 'university_x', 'veterinary_care_x', 'zoo_x',\n",
    "       'tot_POIs_x', 'pub_trans_POIs_x', 'dens_tot_POIs_x',\n",
    "       'dens_pub_trans_POIs_x', 'Area_y',\n",
    "       'accounting_y', 'airport_y', 'amusement_park_y', 'aquarium_y',\n",
    "       'art_gallery_y', 'atm_y', 'bakery_y', 'bank_y', 'bar_y',\n",
    "       'beauty_salon_y', 'bicycle_store_y', 'book_store_y',\n",
    "       'bowling_alley_y', 'bus_station_y', 'cafe_y', 'car_dealer_y',\n",
    "       'car_rental_y', 'car_repair_y', 'car_wash_y', 'casino_y',\n",
    "       'cemetery_y', 'church_y', 'city_hall_y', 'clothing_store_y',\n",
    "       'convenience_store_y', 'dentist_y', 'department_store_y',\n",
    "       'doctor_y', 'drugstore_y', 'electrician_y', 'electronics_store_y',\n",
    "       'embassy_y', 'finance_y', 'fire_station_y', 'florist_y', 'food_y',\n",
    "       'funeral_home_y', 'furniture_store_y', 'gas_station_y',\n",
    "       'general_contractor_y', 'grocery_or_supermarket_y', 'gym_y',\n",
    "       'hair_care_y', 'hardware_store_y', 'health_y', 'hindu_temple_y',\n",
    "       'home_goods_store_y', 'hospital_y', 'insurance_agency_y',\n",
    "       'jewelry_store_y', 'laundry_y', 'lawyer_y', 'library_y',\n",
    "       'liquor_store_y', 'local_government_office_y', 'locality_y',\n",
    "       'locksmith_y', 'lodging_y', 'meal_delivery_y', 'meal_takeaway_y',\n",
    "       'mosque_y', 'movie_rental_y', 'movie_theater_y',\n",
    "       'moving_company_y', 'museum_y', 'natural_feature_y',\n",
    "       'neighborhood_y', 'night_club_y', 'painter_y', 'park_y',\n",
    "       'parking_y', 'pet_store_y', 'pharmacy_y', 'physiotherapist_y',\n",
    "       'place_of_worship_y', 'plumber_y', 'police_y', 'political_y',\n",
    "       'post_office_y', 'premise_y', 'primary_school_y',\n",
    "       'real_estate_agency_y', 'restaurant_y', 'roofing_contractor_y',\n",
    "       'rv_park_y', 'school_y', 'secondary_school_y', 'shoe_store_y',\n",
    "       'shopping_mall_y', 'spa_y', 'stadium_y', 'storage_y', 'store_y',\n",
    "       'subway_station_y', 'supermarket_y', 'synagogue_y', 'taxi_stand_y',\n",
    "       'tourist_attraction_y', 'train_station_y', 'transit_station_y',\n",
    "       'travel_agency_y', 'university_y', 'veterinary_care_y', 'zoo_y',\n",
    "       'tot_POIs_y', 'pub_trans_POIs_y', 'dens_tot_POIs_y',\n",
    "       'dens_pub_trans_POIs_y']"
   ]
  },
  {
   "cell_type": "code",
   "execution_count": 225,
   "metadata": {},
   "outputs": [],
   "source": [
    "# test.to_csv('master.csv')\n",
    "# !zip -r master.zip master.csv\n",
    "\n",
    "# Export csv and zip it "
   ]
  },
  {
   "cell_type": "code",
   "execution_count": 342,
   "metadata": {},
   "outputs": [],
   "source": [
    "# test = test[test['Trip ID'] > 2] # for ride_number > 2 only"
   ]
  },
  {
   "cell_type": "code",
   "execution_count": 347,
   "metadata": {},
   "outputs": [],
   "source": [
    "# test['hour'].unique()"
   ]
  },
  {
   "cell_type": "code",
   "execution_count": 348,
   "metadata": {},
   "outputs": [],
   "source": [
    "test.to_csv('master_hourslot_all_days')"
   ]
  },
  {
   "cell_type": "code",
   "execution_count": 355,
   "metadata": {},
   "outputs": [],
   "source": [
    "# !zip -r master_hourslot_all_days master_hourslot_all_days"
   ]
  },
  {
   "cell_type": "code",
   "execution_count": 354,
   "metadata": {},
   "outputs": [],
   "source": [
    "X = test.drop([\"Trip ID\"], axis=1)\n",
    "\n",
    "y = test[\"Trip ID\"]\n",
    "\n",
    "# Create X and y"
   ]
  },
  {
   "cell_type": "code",
   "execution_count": 277,
   "metadata": {},
   "outputs": [
    {
     "data": {
      "text/plain": [
       "count    224532.000000\n",
       "mean         14.033790\n",
       "std          33.129195\n",
       "min           3.000000\n",
       "25%           3.000000\n",
       "50%           5.000000\n",
       "75%          11.000000\n",
       "max        1627.000000\n",
       "Name: Trip ID, dtype: float64"
      ]
     },
     "execution_count": 277,
     "metadata": {},
     "output_type": "execute_result"
    }
   ],
   "source": [
    "y.describe()"
   ]
  },
  {
   "cell_type": "code",
   "execution_count": 278,
   "metadata": {},
   "outputs": [],
   "source": [
    "X_train, X_test, y_train, y_test = train_test_split(X, y, test_size=0.2, random_state=42)"
   ]
  },
  {
   "cell_type": "code",
   "execution_count": 279,
   "metadata": {},
   "outputs": [
    {
     "data": {
      "text/plain": [
       "((179625, 222), (44907, 222))"
      ]
     },
     "execution_count": 279,
     "metadata": {},
     "output_type": "execute_result"
    }
   ],
   "source": [
    "X_train.shape, X_test.shape"
   ]
  },
  {
   "cell_type": "code",
   "execution_count": 280,
   "metadata": {},
   "outputs": [],
   "source": [
    "X_train = pipeline(X_train)\n",
    "X_test = pipeline(X_test)\n",
    "\n",
    "# Pipeline for one hot encoding"
   ]
  },
  {
   "cell_type": "code",
   "execution_count": 281,
   "metadata": {},
   "outputs": [
    {
     "data": {
      "text/plain": [
       "((179625, 225), (44907, 225))"
      ]
     },
     "execution_count": 281,
     "metadata": {},
     "output_type": "execute_result"
    }
   ],
   "source": [
    "X_train.shape, X_test.shape"
   ]
  },
  {
   "cell_type": "code",
   "execution_count": 282,
   "metadata": {},
   "outputs": [],
   "source": [
    "outlier_treatment(X_train, columns_needing_ot)\n",
    "outlier_treatment(X_test, columns_needing_ot)\n",
    "\n",
    "#outlier treatment for POI data"
   ]
  },
  {
   "cell_type": "code",
   "execution_count": 283,
   "metadata": {},
   "outputs": [],
   "source": [
    "# X_train.describe()"
   ]
  },
  {
   "cell_type": "code",
   "execution_count": 284,
   "metadata": {},
   "outputs": [],
   "source": [
    "# import matplotlib.pyplot as plt\n",
    "# plt.hist(test['Trip ID'], test['hour'])\n",
    "# plt.show()"
   ]
  },
  {
   "cell_type": "code",
   "execution_count": 285,
   "metadata": {},
   "outputs": [],
   "source": [
    "scaler = StandardScaler()\n",
    "train_scaled = scaler.fit_transform(X_train)\n",
    "test_scaled = scaler.transform(X_test)"
   ]
  },
  {
   "cell_type": "code",
   "execution_count": 286,
   "metadata": {},
   "outputs": [],
   "source": [
    "# y_train.describe(percentiles=[0.05, 0.25, 0.5, 0.75, 0.95])"
   ]
  },
  {
   "cell_type": "code",
   "execution_count": 287,
   "metadata": {},
   "outputs": [],
   "source": [
    "pca = PCA(.95)\n",
    "train_pca = pca.fit(train_scaled)"
   ]
  },
  {
   "cell_type": "code",
   "execution_count": 288,
   "metadata": {},
   "outputs": [],
   "source": [
    "train_pca = pca.transform(train_scaled)\n",
    "test_pca = pca.transform(test_scaled)"
   ]
  },
  {
   "cell_type": "code",
   "execution_count": 310,
   "metadata": {},
   "outputs": [],
   "source": [
    "pd.DataFrame(train_pca).to_csv('train_pca')\n",
    "pd.DataFrame(test_pca).to_csv('test_pca')"
   ]
  },
  {
   "cell_type": "code",
   "execution_count": 323,
   "metadata": {},
   "outputs": [],
   "source": [
    "pd.DataFrame(y_train).to_csv('y_train')\n",
    "pd.DataFrame(y_test).to_csv('y_test')"
   ]
  },
  {
   "cell_type": "code",
   "execution_count": 289,
   "metadata": {},
   "outputs": [
    {
     "data": {
      "text/plain": [
       "22"
      ]
     },
     "execution_count": 289,
     "metadata": {},
     "output_type": "execute_result"
    }
   ],
   "source": [
    "pca.n_components_"
   ]
  },
  {
   "cell_type": "code",
   "execution_count": 321,
   "metadata": {},
   "outputs": [
    {
     "name": "stdout",
     "output_type": "stream",
     "text": [
      "  adding: train_pca (deflated 54%)\n"
     ]
    }
   ],
   "source": [
    "!zip -r train_export train_pca"
   ]
  },
  {
   "cell_type": "code",
   "execution_count": 322,
   "metadata": {},
   "outputs": [
    {
     "name": "stdout",
     "output_type": "stream",
     "text": [
      "  adding: test_pca (deflated 54%)\n"
     ]
    }
   ],
   "source": [
    "!zip -r test_export test_pca"
   ]
  },
  {
   "cell_type": "code",
   "execution_count": 324,
   "metadata": {},
   "outputs": [
    {
     "name": "stdout",
     "output_type": "stream",
     "text": [
      "  adding: y_train (deflated 55%)\n"
     ]
    }
   ],
   "source": [
    "!zip -r y_train_export y_train"
   ]
  },
  {
   "cell_type": "code",
   "execution_count": 325,
   "metadata": {},
   "outputs": [
    {
     "name": "stdout",
     "output_type": "stream",
     "text": [
      "  adding: y_test (deflated 55%)\n"
     ]
    }
   ],
   "source": [
    "!zip -r y_test_export y_test"
   ]
  },
  {
   "cell_type": "code",
   "execution_count": 290,
   "metadata": {},
   "outputs": [],
   "source": [
    "# MODEL 1 (MLP)"
   ]
  },
  {
   "cell_type": "code",
   "execution_count": 300,
   "metadata": {},
   "outputs": [
    {
     "data": {
      "text/plain": [
       "MLPRegressor(activation='relu', alpha=0.1, batch_size='auto', beta_1=0.9,\n",
       "             beta_2=0.999, early_stopping=False, epsilon=1e-08,\n",
       "             hidden_layer_sizes=(100,), learning_rate='constant',\n",
       "             learning_rate_init=0.001, max_iter=1000, momentum=0.9,\n",
       "             n_iter_no_change=10, nesterovs_momentum=True, power_t=0.5,\n",
       "             random_state=None, shuffle=True, solver='adam', tol=0.0001,\n",
       "             validation_fraction=0.1, verbose=False, warm_start=False)"
      ]
     },
     "execution_count": 300,
     "metadata": {},
     "output_type": "execute_result"
    }
   ],
   "source": [
    "model1 = MLPRegressor(alpha=0.1, max_iter=1000)\n",
    "model1.fit(train_pca, y_train)"
   ]
  },
  {
   "cell_type": "code",
   "execution_count": 298,
   "metadata": {},
   "outputs": [],
   "source": [
    "def cpc_loss(y_pred, y_true):\n",
    "    \n",
    "    assert(len(y_pred) == len(y_true))\n",
    "#     print([(min(a,b)*2)/(a+b) for (a, b) in zip(y_pred, y_true)])\n",
    "    \n",
    "    for (a, b) in zip(y_pred[0:10], y_true[0:10]):\n",
    "        print(a, b, (min(a,b)*2), (a+b))\n",
    "    \n",
    "    return np.mean([(min(a,b)*2)/(a+b) for (a, b) in zip(y_pred, y_true)])"
   ]
  },
  {
   "cell_type": "code",
   "execution_count": 292,
   "metadata": {},
   "outputs": [],
   "source": [
    "y_train_pred = model1.predict(train_pca)\n",
    "y_test_pred = model1.predict(test_pca)"
   ]
  },
  {
   "cell_type": "code",
   "execution_count": 299,
   "metadata": {},
   "outputs": [
    {
     "name": "stdout",
     "output_type": "stream",
     "text": [
      "14.220302793389513 4 8 18.220302793389514\n",
      "-0.693020196864909 7 -1.386040393729818 6.306979803135091\n",
      "15.667652137903042 3 6 18.66765213790304\n",
      "26.22814422696849 49 52.45628845393698 75.22814422696848\n",
      "16.05355813233958 21 32.10711626467916 37.05355813233958\n",
      "11.760645069301104 13 23.521290138602208 24.760645069301106\n",
      "55.2960472982342 19 38 74.2960472982342\n",
      "10.461815364194257 9 18 19.46181536419426\n",
      "15.078160638224714 18 30.15632127644943 33.078160638224716\n",
      "-4.560173548505057 5 -9.120347097010114 0.4398264514949428\n"
     ]
    },
    {
     "data": {
      "text/plain": [
       "1.351751595347416"
      ]
     },
     "execution_count": 299,
     "metadata": {},
     "output_type": "execute_result"
    }
   ],
   "source": [
    "cpc_loss(y_train_pred, y_train)"
   ]
  },
  {
   "cell_type": "code",
   "execution_count": 293,
   "metadata": {},
   "outputs": [],
   "source": [
    "train_cpc = cpc_loss(y_train_pred, y_train)\n",
    "test_cpc = cpc_loss(y_test_pred, y_test)"
   ]
  },
  {
   "cell_type": "code",
   "execution_count": 294,
   "metadata": {},
   "outputs": [
    {
     "data": {
      "text/plain": [
       "(1.351751595347416, 0.496445495462588)"
      ]
     },
     "execution_count": 294,
     "metadata": {},
     "output_type": "execute_result"
    }
   ],
   "source": [
    "train_cpc, test_cpc"
   ]
  },
  {
   "cell_type": "code",
   "execution_count": 272,
   "metadata": {},
   "outputs": [
    {
     "name": "stdout",
     "output_type": "stream",
     "text": [
      "(array([ 5.11046852, -1.99780283, -6.30969372,  3.93700706,  2.95348089,\n",
      "        7.68947365,  1.3127411 ,  4.9890607 , -5.06197073]), [1, 1, 2, 2, 1, 2, 1, 6, 1])\n"
     ]
    }
   ],
   "source": [
    "print((y_test_pred[1:10], list(y_test)[1:10]))"
   ]
  },
  {
   "cell_type": "code",
   "execution_count": 264,
   "metadata": {},
   "outputs": [
    {
     "ename": "AttributeError",
     "evalue": "'AxesSubplot' object has no attribute 'show'",
     "output_type": "error",
     "traceback": [
      "\u001b[0;31m---------------------------------------------------------------------------\u001b[0m",
      "\u001b[0;31mAttributeError\u001b[0m                            Traceback (most recent call last)",
      "\u001b[0;32m<ipython-input-264-fdfec4f703c2>\u001b[0m in \u001b[0;36m<module>\u001b[0;34m()\u001b[0m\n\u001b[1;32m      3\u001b[0m \u001b[0my\u001b[0m \u001b[0;34m=\u001b[0m \u001b[0mpd\u001b[0m\u001b[0;34m.\u001b[0m\u001b[0mSeries\u001b[0m\u001b[0;34m(\u001b[0m\u001b[0my_train_pred\u001b[0m\u001b[0;34m)\u001b[0m\u001b[0;34m.\u001b[0m\u001b[0mhist\u001b[0m\u001b[0;34m(\u001b[0m\u001b[0;34m)\u001b[0m\u001b[0;34m\u001b[0m\u001b[0m\n\u001b[1;32m      4\u001b[0m \u001b[0;31m# y.x_lab('')\u001b[0m\u001b[0;34m\u001b[0m\u001b[0;34m\u001b[0m\u001b[0m\n\u001b[0;32m----> 5\u001b[0;31m \u001b[0my\u001b[0m\u001b[0;34m.\u001b[0m\u001b[0mshow\u001b[0m\u001b[0;34m(\u001b[0m\u001b[0;34m)\u001b[0m\u001b[0;34m;\u001b[0m\u001b[0;34m\u001b[0m\u001b[0m\n\u001b[0m",
      "\u001b[0;31mAttributeError\u001b[0m: 'AxesSubplot' object has no attribute 'show'"
     ]
    },
    {
     "data": {
      "image/png": "[encoded data removed]",
      "text/plain": [
       "<Figure size 432x288 with 1 Axes>"
      ]
     },
     "metadata": {},
     "output_type": "display_data"
    }
   ],
   "source": [
    "# (pd.Series(y_train_pred)).describe()\n",
    "\n",
    "y = pd.Series(y_train_pred).hist()\n",
    "# y.x_lab('')\n",
    "y.show();"
   ]
  },
  {
   "cell_type": "code",
   "execution_count": 243,
   "metadata": {},
   "outputs": [],
   "source": [
    "# mod1_train_acc = accuracy_score(y_train, model.predict(train_scaled))\n",
    "# mod1_test_acc = accuracy_score(y_test, model.predict(test_scaled))\n",
    "# mod1_y_train_pred = model.predict(train_scaled)\n",
    "# mod1_y_test_pred = model.predict(test_scaled)\n",
    "\n",
    "train_score = model1.score(train_pca, y_train)\n",
    "test_score = model1.score(test_pca, y_test)"
   ]
  },
  {
   "cell_type": "code",
   "execution_count": 244,
   "metadata": {},
   "outputs": [
    {
     "data": {
      "text/plain": [
       "(0.4197386258294929, 0.44037011399450904)"
      ]
     },
     "execution_count": 244,
     "metadata": {},
     "output_type": "execute_result"
    }
   ],
   "source": [
    "train_score, test_score"
   ]
  },
  {
   "cell_type": "code",
   "execution_count": null,
   "metadata": {},
   "outputs": [],
   "source": []
  },
  {
   "cell_type": "code",
   "execution_count": 245,
   "metadata": {},
   "outputs": [],
   "source": [
    "gbdt_model2 = GradientBoostingRegressor()"
   ]
  },
  {
   "cell_type": "code",
   "execution_count": 326,
   "metadata": {},
   "outputs": [],
   "source": [
    "# gbdt_model2.fit(train_pca, y_train)"
   ]
  },
  {
   "cell_type": "code",
   "execution_count": 77,
   "metadata": {},
   "outputs": [],
   "source": [
    "# train_acc = accuracy_score(y_train, gbdt_model.predict(train_scaled))\n",
    "# test_acc = accuracy_score(y_test, gbdt_model.predict(test_scaled))\n",
    "\n",
    "# print(\"Train: {}, Test: {}\".format(train_acc, test_acc))"
   ]
  },
  {
   "cell_type": "code",
   "execution_count": 78,
   "metadata": {},
   "outputs": [],
   "source": [
    "# with open('log.txt', 'w+') as f:\n",
    "#     f.write(train_acc, test_acc)"
   ]
  },
  {
   "cell_type": "code",
   "execution_count": 79,
   "metadata": {},
   "outputs": [],
   "source": [
    "# accuracy_score(y_train, gbdt_model.predict(train_scaled))"
   ]
  },
  {
   "cell_type": "code",
   "execution_count": 26,
   "metadata": {},
   "outputs": [],
   "source": [
    "y_train_pred = gbdt_model2.predict(train_scaled)\n",
    "y_test_pred = gbdt_model2.predict(test_scaled)"
   ]
  },
  {
   "cell_type": "code",
   "execution_count": 81,
   "metadata": {},
   "outputs": [],
   "source": [
    "rmse_train = sqrt(mean_squared_error(y_train, y_train_pred))\n",
    "rmse_test = sqrt(mean_squared_error(y_test, y_test_pred))"
   ]
  },
  {
   "cell_type": "code",
   "execution_count": 82,
   "metadata": {},
   "outputs": [
    {
     "data": {
      "text/plain": [
       "(4.639807465709871, 48.98666923904631)"
      ]
     },
     "execution_count": 82,
     "metadata": {},
     "output_type": "execute_result"
    }
   ],
   "source": [
    "rmse_train, rmse_test"
   ]
  },
  {
   "cell_type": "code",
   "execution_count": 83,
   "metadata": {},
   "outputs": [],
   "source": [
    "train_score = gbdt_model2.score(train_scaled, y_train)\n",
    "test_score = gbdt_model2.score(test_scaled, y_test)"
   ]
  },
  {
   "cell_type": "code",
   "execution_count": 84,
   "metadata": {},
   "outputs": [
    {
     "data": {
      "text/plain": [
       "(0.9914827567708334, 0.4993220542418971)"
      ]
     },
     "execution_count": 84,
     "metadata": {},
     "output_type": "execute_result"
    }
   ],
   "source": [
    "train_score, test_score"
   ]
  },
  {
   "cell_type": "code",
   "execution_count": 17,
   "metadata": {},
   "outputs": [],
   "source": [
    "# Adabooster"
   ]
  },
  {
   "cell_type": "code",
   "execution_count": 104,
   "metadata": {},
   "outputs": [],
   "source": [
    "# class customMLPClassifer(MLPClassifier):\n",
    "#     def resample_with_replacement(self, X_train, y_train, sample_weight):\n",
    "\n",
    "#         # normalize sample_weights if not already\n",
    "#         sample_weight = sample_weight / sample_weight.sum(dtype=np.float64)\n",
    "\n",
    "#         X_train_resampled = np.zeros((len(X_train), len(X_train[0])), dtype=np.float32)\n",
    "#         y_train_resampled = np.zeros((len(y_train)), dtype=np.int)\n",
    "#         for i in range(len(X_train)):\n",
    "#             # draw a number from 0 to len(X_train)-1\n",
    "#             draw = np.random.choice(np.arange(len(X_train)), p=sample_weight)\n",
    "\n",
    "#             # place the X and y at the drawn number into the resampled X and y\n",
    "#             X_train_resampled[i] = X_train[draw]\n",
    "#             y_train_resampled[i] = y_train[draw]\n",
    "\n",
    "#         return X_train_resampled, y_train_resampled\n",
    "\n",
    "\n",
    "#     def fit(self, X, y, sample_weight=None):\n",
    "#         if sample_weight is not None:\n",
    "#             X, y = self.resample_with_replacement(X, y, sample_weight)\n",
    "\n",
    "#         return self._fit(X, y, incremental=(self.warm_start and\n",
    "#                                             hasattr(self, \"classes_\")))"
   ]
  },
  {
   "cell_type": "code",
   "execution_count": 105,
   "metadata": {},
   "outputs": [],
   "source": [
    "adabooster = AdaBoostRegressor()"
   ]
  },
  {
   "cell_type": "code",
   "execution_count": 106,
   "metadata": {},
   "outputs": [
    {
     "data": {
      "text/plain": [
       "AdaBoostRegressor(base_estimator=None, learning_rate=1.0, loss='linear',\n",
       "         n_estimators=50, random_state=None)"
      ]
     },
     "execution_count": 106,
     "metadata": {},
     "output_type": "execute_result"
    }
   ],
   "source": [
    "adabooster.fit(train_scaled, y_train)"
   ]
  },
  {
   "cell_type": "code",
   "execution_count": 107,
   "metadata": {},
   "outputs": [],
   "source": [
    "adb_y_train_pred = adabooster.predict(train_scaled)\n",
    "adb_y_test_pred = adabooster.predict(test_scaled)"
   ]
  },
  {
   "cell_type": "code",
   "execution_count": 108,
   "metadata": {},
   "outputs": [],
   "source": [
    "rmse_train = sqrt(mean_squared_error(y_train, adb_y_train_pred))\n",
    "rmse_test = sqrt(mean_squared_error(y_test, adb_y_test_pred))"
   ]
  },
  {
   "cell_type": "code",
   "execution_count": 109,
   "metadata": {},
   "outputs": [],
   "source": [
    "train_score = adabooster.score(train_scaled, y_train)\n",
    "test_score = adabooster.score(test_scaled, y_test)"
   ]
  },
  {
   "cell_type": "code",
   "execution_count": 110,
   "metadata": {},
   "outputs": [
    {
     "data": {
      "text/plain": [
       "(0.6203968220837198, 0.1506693536755579)"
      ]
     },
     "execution_count": 110,
     "metadata": {},
     "output_type": "execute_result"
    }
   ],
   "source": [
    "train_score, test_score"
   ]
  }
 ],
 "metadata": {
  "kernelspec": {
   "display_name": "py3",
   "language": "python",
   "name": "py3"
  },
  "language_info": {
   "codemirror_mode": {
    "name": "ipython",
    "version": 3
   },
   "file_extension": ".py",
   "mimetype": "text/x-python",
   "name": "python",
   "nbconvert_exporter": "python",
   "pygments_lexer": "ipython3",
   "version": "3.5.2"
  }
 },
 "nbformat": 4,
 "nbformat_minor": 2
}
